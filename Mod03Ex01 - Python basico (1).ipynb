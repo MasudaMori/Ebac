{
 "cells": [
  {
   "cell_type": "markdown",
   "metadata": {
    "id": "SEE0vQsW83yB"
   },
   "source": [
    "### 01 - Teste de gravidez\n",
    "Escreva uma célula com controle de fluxos que tem como premissa a existência das seguintes variáveis:\n",
    "\n",
    "- ```sexo``` como ```str``` indicando os valores '**M**' para masculino e '**F**' para feminino  \n",
    "- ```beta_hcg``` que indica a quantidade do beta-HCG no sangue em mUI/mL.\n",
    "\n",
    "A sua tarefa é escrever um código que imprima como resultado \"indivíduo do sexo masculino\" quando sexo = 'M', caso sexo = 'F', se o valor de beta-HCG for maior que 5, retorne \"Positivo\" indicando que a paciente está grávida, e retorne \"Negativo\" caso contrário.\n",
    "\n",
    "Não mexa nos valores da variável ```sexo``` nem em ```beta_hcg```, e escreva um código que funcione para quaisquer valores possíveis de ambos: ```sexo``` = '**M**' ou '**F**' e ```beta_hcg``` assumindo valores inteiros positivos."
   ]
  },
  {
   "cell_type": "code",
   "execution_count": 3,
   "metadata": {
    "id": "cTOc4LG683yE"
   },
   "outputs": [
    {
     "name": "stdout",
     "output_type": "stream",
     "text": [
      "indivíduo do sexo masculino\n"
     ]
    }
   ],
   "source": [
    "sexo = 'M'\n",
    "beta_hcg = 0\n",
    "\n",
    "# seu código vem abaixo desta linha\n",
    "\n",
    "if sexo == 'M':\n",
    "    print(\"indivíduo do sexo masculino\")\n",
    "else:\n",
    "    if beta_hcg > 5:\n",
    "        print(\"Positivo\")\n",
    "    else:\n",
    "        print(\"Negativo\")"
   ]
  },
  {
   "cell_type": "markdown",
   "metadata": {
    "id": "uCoIZDE383yF"
   },
   "source": [
    "### 02 - Renomeando variáveis\n",
    "\n",
    "Vamos ver adiante que uma forma de renomear variáveis de um conjunto de dados é através de dicionários - o dicionário deve conter como chave o nome original, associando a cada chave um único valor (tipo *str*) que contenha o nome novo.\n",
    "\n",
    "A sua tarefa é escrever um dicionário que possa ser utilizado para traduzir as variáveis ```name``` (nome), ```age``` (idade) e ```income``` (renda). Ou seja, esse dicionário deve relacionar as chaves *name, age* e *income* às suas respectivas traduções."
   ]
  },
  {
   "cell_type": "code",
   "execution_count": 4,
   "metadata": {
    "id": "Bh6ijpbu83yG",
    "outputId": "58fbd8da-ed1d-4e05-df85-041c821948f2"
   },
   "outputs": [
    {
     "name": "stdout",
     "output_type": "stream",
     "text": [
      "{'name': 'nome', 'age': 'idade', 'income': 'renda'}\n"
     ]
    }
   ],
   "source": [
    "dic_renomeacao = {'': ''}\n",
    "dic_renomeacao\n",
    "\n",
    "dic_renomeacao = {'name': 'nome', 'age': 'idade', 'income': 'renda'}\n",
    "print(dic_renomeacao)"
   ]
  },
  {
   "cell_type": "markdown",
   "metadata": {
    "id": "95zumO5g83yH"
   },
   "source": [
    "### 03 - É divisível?\n",
    "A sua tarefa é escrever um código que indique se um número ```N``` é divisível por um número P. Escreva um programa que faça essa verificação para quaisquer combinações de ```N``` e ```M``` e devolva uma mensagem indicativa no output."
   ]
  },
  {
   "cell_type": "code",
   "execution_count": 5,
   "metadata": {
    "id": "BR2zOhmN83yI"
   },
   "outputs": [
    {
     "name": "stdout",
     "output_type": "stream",
     "text": [
      "O número 42 é divisível por 7.\n"
     ]
    }
   ],
   "source": [
    "N = 42\n",
    "M = 7\n",
    "\n",
    "#Seu código\n",
    "def verificar_divisibilidade(N, M):\n",
    "  \"\"\"Verifica se um número N é divisível por outro número M.\n",
    "\n",
    "  Args:\n",
    "    N: O dividendo.\n",
    "    M: O divisor.\n",
    "\n",
    "  Returns:\n",
    "    Uma string indicando se a divisão é exata ou não.\n",
    "  \"\"\"\n",
    "\n",
    "  if N % M == 0:\n",
    "    return f\"O número {N} é divisível por {M}.\"\n",
    "  else:\n",
    "    return f\"O número {N} não é divisível por {M}.\"\n",
    "\n",
    "# Exemplo de uso:\n",
    "N = 42\n",
    "M = 7\n",
    "resultado = verificar_divisibilidade(N, M)\n",
    "print(resultado)"
   ]
  },
  {
   "cell_type": "markdown",
   "metadata": {
    "id": "0d5Kdrz283yJ"
   },
   "source": [
    "### 04 - Números primos\n",
    "> Um número **N** é primo se e somente se é divisível por 1, -1, por **N** e por -**N**.  \n",
    "\n",
    "Escreva um script que verifica se ```N``` é um número primo, verificando se ```N``` é divisível por todos os números de ```1``` a ```N-1```. Você vai precisar usar alguma ferramenta de *loop* que você aprendeu para isto. No final, devolva uma mensagem no output indicando se o número é primo ou não."
   ]
  },
  {
   "cell_type": "code",
   "execution_count": 7,
   "metadata": {
    "id": "h_lFO-EO83yJ"
   },
   "outputs": [
    {
     "name": "stdout",
     "output_type": "stream",
     "text": [
      "O número 47 é primo.\n"
     ]
    }
   ],
   "source": [
    "N = 47\n",
    "\n",
    "# seu código abaixo\n",
    "\n",
    "def eh_primo(N):\n",
    "  \"\"\"Verifica se um número N é primo.\n",
    "\n",
    "  Args:\n",
    "    N: O número a ser verificado.\n",
    "\n",
    "  Returns:\n",
    "    True se N for primo, False caso contrário.\n",
    "  \"\"\"\n",
    "\n",
    "  if N <= 1:\n",
    "    return False  # Números menores ou iguais a 1 não são primos\n",
    "\n",
    "  # Começamos a verificação a partir de 2 até a raiz quadrada de N\n",
    "  # (qualquer divisor maior que a raiz quadrada teria um correspondente menor)\n",
    "  for i in range(2, int(N**0.5) + 1):\n",
    "    if N % i == 0:\n",
    "      return False  # Se N é divisível por i, não é primo\n",
    "\n",
    "  return True  # Se não foi encontrado nenhum divisor, N é primo\n",
    "\n",
    "# Exemplo de uso:\n",
    "N = 47\n",
    "if eh_primo(N):\n",
    "  print(f\"O número {N} é primo.\")\n",
    "else:\n",
    "  print(f\"O número {N} não é primo.\")"
   ]
  },
  {
   "cell_type": "markdown",
   "metadata": {
    "id": "zHwDnURO83yK"
   },
   "source": [
    "### 05 - Desafio\n",
    "O algorítmo do exercício anterior não é o mais eficiente. O que você pode fazer para deixá-lo mais eficiente? Ou seja, executar menos comparações, portanto consumir menos tempo.\n",
    "1. Será que precisamos correr o loop até o final sempre?\n",
    "2. Será que precisamos mesmo verificar **todos** os números?\n",
    "3. Será que precisamos ir até N-1?\n",
    "\n",
    "Essas perguntas levam ao tipo de pensamento voltado a deixar um algoritmo mais eficiente. Veja se você consegue melhorar o seu."
   ]
  },
  {
   "cell_type": "code",
   "execution_count": 12,
   "metadata": {
    "id": "DDdwfZOL83yM"
   },
   "outputs": [
    {
     "name": "stdout",
     "output_type": "stream",
     "text": [
      "O número 98 é primo: False\n"
     ]
    }
   ],
   "source": [
    "N = 98\n",
    "\n",
    "# seu código aqui\n",
    "\n",
    "def eh_primo(N):\n",
    "    \"\"\"Verifica se um número N é primo.\n",
    "\n",
    "    Args:\n",
    "        N: O número a ser verificado.\n",
    "\n",
    "    Returns:\n",
    "        True se N for primo, False caso contrário.\n",
    "    \"\"\"\n",
    "\n",
    "    if N <= 1:\n",
    "        return False\n",
    "    for i in range(2, int(N**0.5) + 1):\n",
    "        if N % i == 0:\n",
    "            return False\n",
    "    return True\n",
    "\n",
    "def gera_primos(limite):\n",
    "    \"\"\"Gera uma lista de números primos até um determinado limite.\n",
    "\n",
    "    Args:\n",
    "        limite: O limite superior para a geração de números primos.\n",
    "\n",
    "    Returns:\n",
    "        Uma lista contendo os números primos até o limite.\n",
    "    \"\"\"\n",
    "\n",
    "    primos = []\n",
    "    for num in range(2, limite + 1):\n",
    "        if eh_primo(num):\n",
    "            primos.append(num)\n",
    "    return primos\n",
    "\n",
    "# Exemplos de uso:\n",
    "N = 98\n",
    "print(f\"O número {N} é primo: {eh_primo(N)}\")\n"
   ]
  },
  {
   "cell_type": "markdown",
   "metadata": {
    "id": "4zhVSQan83yN"
   },
   "source": [
    "### 06 - Peso ideal 1\n",
    "O IMC (índice de massa corpórea) é um indicador de saúde mais bem aceito que o peso. Ele é calculado como:\n",
    "\n",
    "$$ IMC = \\dfrac{peso}{altura^2}$$\n",
    "\n",
    "Segundo a OMS, valores *normais* são entre 18.5 e 24.9.\n",
    "\n",
    "Sua tarefa é encontrar o ponto médio dessa faixa."
   ]
  },
  {
   "cell_type": "code",
   "execution_count": 13,
   "metadata": {
    "id": "3DzxicN983yO",
    "outputId": "6a947e58-88b2-4764-a9ca-717b971adb3d"
   },
   "outputs": [
    {
     "name": "stdout",
     "output_type": "stream",
     "text": [
      "O IMC ideal, segundo a OMS, é: 21.7\n"
     ]
    }
   ],
   "source": [
    "imc_minimo = 18.5\n",
    "imc_maximo = 24.9\n",
    "\n",
    "imc_ideal = (imc_minimo + imc_maximo) / 2\n",
    "\n",
    "print(f\"O IMC ideal, segundo a OMS, é: {imc_ideal}\")"
   ]
  },
  {
   "cell_type": "markdown",
   "metadata": {
    "id": "Z8uBOym483yP"
   },
   "source": [
    "### 07 - Peso ideal 2\n",
    "Recebendo um valor de altura, encontre o peso '*ideal*' dessa pessoa, que fornece o IMC encontrado acima"
   ]
  },
  {
   "cell_type": "code",
   "execution_count": 14,
   "metadata": {
    "id": "rrNwycte83yP",
    "outputId": "0e63b2ff-3743-48c7-a472-b48a450a0867"
   },
   "outputs": [
    {
     "name": "stdout",
     "output_type": "stream",
     "text": [
      "Para uma altura de 1.7m, o peso ideal é aproximadamente 62.71kg.\n"
     ]
    }
   ],
   "source": [
    "altura = 1.70\n",
    "\n",
    "# Seu código\n",
    "def calcula_peso_ideal(altura):\n",
    "  \"\"\"Calcula o peso ideal para uma dada altura, considerando o IMC ideal de 21.7.\n",
    "\n",
    "  Args:\n",
    "    altura: A altura da pessoa em metros.\n",
    "\n",
    "  Returns:\n",
    "    O peso ideal em quilogramas.\n",
    "  \"\"\"\n",
    "\n",
    "  imc_ideal = 21.7\n",
    "  peso_ideal = imc_ideal * altura**2\n",
    "  return peso_ideal\n",
    "\n",
    "# Exemplo de uso:\n",
    "altura = 1.70  # 1.70 metros\n",
    "peso_ideal = calcula_peso_ideal(altura)\n",
    "print(f\"Para uma altura de {altura}m, o peso ideal é aproximadamente {peso_ideal:.2f}kg.\")\n"
   ]
  },
  {
   "cell_type": "markdown",
   "metadata": {
    "id": "zEdM6J_i83yP"
   },
   "source": [
    "### 08 - Peso ideal 3\n",
    "Dada uma lista contendo as alturas de pacientes, crie uma nova lista que contenha o peso '*ideal*' (que fornece o IMC calculado em **Peso ideal 1**) desses pacientes."
   ]
  },
  {
   "cell_type": "code",
   "execution_count": 15,
   "metadata": {
    "id": "KN1mB_My83yQ",
    "outputId": "f070d54d-c156-4546-e3c7-b5bc500059d9"
   },
   "outputs": [
    {
     "name": "stdout",
     "output_type": "stream",
     "text": [
      "[82.51424999999999, 91.19425, 62.712999999999994, 59.07824999999999]\n"
     ]
    }
   ],
   "source": [
    "lista_alturas = [1.95, 2.05, 1.70, 1.65]\n",
    "\n",
    "lista_peso_ideal = []\n",
    "\n",
    "# seu código\n",
    "def calcula_peso_ideal(altura):\n",
    "  \"\"\"Calcula o peso ideal para uma dada altura, considerando o IMC ideal de 21.7.\n",
    "\n",
    "  Args:\n",
    "    altura: A altura da pessoa em metros.\n",
    "\n",
    "  Returns:\n",
    "    O peso ideal em quilogramas.\n",
    "  \"\"\"\n",
    "\n",
    "  imc_ideal = 21.7\n",
    "  peso_ideal = imc_ideal * altura**2\n",
    "  return peso_ideal\n",
    "\n",
    "# Lista de alturas\n",
    "lista_alturas = [1.95, 2.05, 1.70, 1.65]\n",
    "\n",
    "# Lista para armazenar os pesos ideais\n",
    "lista_peso_ideal = []\n",
    "\n",
    "# Calculando e adicionando os pesos ideais à lista\n",
    "for altura in lista_alturas:\n",
    "    peso_ideal = calcula_peso_ideal(altura)\n",
    "    lista_peso_ideal.append(peso_ideal)\n",
    "\n",
    "print(lista_peso_ideal)"
   ]
  },
  {
   "cell_type": "markdown",
   "metadata": {
    "id": "8OKAtYQM83yQ"
   },
   "source": [
    "### 09 - Peso ideal 4\n",
    "Dada uma lista de tuplas - cada elemento da lista é uma tupla contendo altura e peso de um paciente - crie uma nova lista com o IMC desses pacientes."
   ]
  },
  {
   "cell_type": "code",
   "execution_count": 16,
   "metadata": {
    "id": "FaXgkjzI83yQ",
    "outputId": "8adc5e59-8a72-42db-db6b-6895587e875e"
   },
   "outputs": [
    {
     "name": "stdout",
     "output_type": "stream",
     "text": [
      "[27.777777777777775, 27.548209366391188, 19.188070502453332]\n"
     ]
    }
   ],
   "source": [
    "altura_peso = [(1.80, 90), (1.65, 75), (1.91, 70)]\n",
    "\n",
    "imc = []\n",
    "\n",
    "# seu código\n",
    "\n",
    "def calcula_imc(altura, peso):\n",
    "  \"\"\"Calcula o IMC para uma dada altura e peso.\n",
    "\n",
    "  Args:\n",
    "    altura: A altura da pessoa em metros.\n",
    "    peso: O peso da pessoa em quilogramas.\n",
    "\n",
    "  Returns:\n",
    "    O IMC.\n",
    "  \"\"\"\n",
    "\n",
    "  return peso / (altura ** 2)\n",
    "\n",
    "# Lista de tuplas (altura, peso)\n",
    "altura_peso = [(1.80, 90), (1.65, 75), (1.91, 70)]\n",
    "\n",
    "# Lista para armazenar os IMCs\n",
    "imc = []\n",
    "\n",
    "# Calculando e adicionando os IMCs à lista\n",
    "for altura, peso in altura_peso:\n",
    "    imc_calculado = calcula_imc(altura, peso)\n",
    "    imc.append(imc_calculado)\n",
    "\n",
    "print(imc)"
   ]
  },
  {
   "cell_type": "markdown",
   "metadata": {
    "id": "kZdSJqJq83yR"
   },
   "source": [
    "### 10 - Peso ideal 5\n",
    "Dada uma lista de **listas** - cada elemento da lista é uma **lista** contendo altura e peso de um paciente, adicione mais um elemento à lista de cada paciente contendo o IMC do paciente. Verifique também se é 'baixo', 'normal' ou 'alto' segundo os padrões da OMS em que normal é entre 18.5 e 24.9.\n",
    "\n",
    "Reflexão: por que no problema anterior temos que criar uma nova lista, e não podemos adicionar os dados de cada indivíduo à tupla?"
   ]
  },
  {
   "cell_type": "code",
   "execution_count": null,
   "metadata": {
    "id": "EwszojP283yR"
   },
   "outputs": [],
   "source": [
    "altura_peso = [[1.80, 90], [1.65, 75], [1.91, 70]]\n",
    "\n",
    "# seu código\n",
    "\n",
    "altura_peso"
   ]
  }
 ],
 "metadata": {
  "colab": {
   "collapsed_sections": [],
   "provenance": []
  },
  "kernelspec": {
   "display_name": "Python 3 (ipykernel)",
   "language": "python",
   "name": "python3"
  },
  "language_info": {
   "codemirror_mode": {
    "name": "ipython",
    "version": 3
   },
   "file_extension": ".py",
   "mimetype": "text/x-python",
   "name": "python",
   "nbconvert_exporter": "python",
   "pygments_lexer": "ipython3",
   "version": "3.12.4"
  }
 },
 "nbformat": 4,
 "nbformat_minor": 4
}
