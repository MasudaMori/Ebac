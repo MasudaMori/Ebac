{
  "cells": [
    {
      "cell_type": "markdown",
      "metadata": {
        "id": "x7eHeHobYn6i"
      },
      "source": [
        "## Exercício 1: Vestibular\n",
        "\n",
        "Considere que a os dados gerados na célula abaixo contêm o número de acertos de 100 alunos em um vestibular para um curso de exatas, divididas pelos respectivos assuntos. Considere que cada assunto possui um número de questões conforme a tabela abaixo:\n",
        "\n",
        "| assunto | número de questões |\n",
        "|:---:|:---:|\n",
        "| Matemática | 24 |\n",
        "| Português | 18 |\n",
        "| Geografia | 8 |\n",
        "| Inglês | 8 |\n",
        "| História | 8 |\n",
        "| Física | 12 |\n",
        "| Química | 12 |\n",
        "\n",
        "Usando os comandos de operações com DataFrames que você aprendeu na Aula 03, calcule:\n",
        "\n",
        "1. (operações com escalar) Calcule o percentual de acerto dos alunos por assunto.  \n",
        "2. (operações entre *DataFrames) Calcule o total de acertos de cada aluno.  \n",
        "3. Calcule o porcentual geral de cada aluno.  \n",
        "4. Suponha que a nota de corte para a segunda fase seja 45. Quantos alunos tiveram nota maior que 45?  "
      ]
    },
    {
      "cell_type": "code",
      "execution_count": null,
      "metadata": {
        "id": "KF-kCFgeYn6j"
      },
      "outputs": [],
      "source": [
        "import pandas as pd\n",
        "import numpy as np\n",
        "\n",
        "np.random.seed(42)\n",
        "df_mat = pd.DataFrame(np.random.randint(24, size=(100, 1)), columns=['Qt_acertos'])\n",
        "\n",
        "df_por = pd.DataFrame(np.random.randint(18, size=(100, 1)), columns=['Qt_acertos'])\n",
        "\n",
        "df_geo = pd.DataFrame(np.random.randint(8, size=(100, 1)), columns=['Qt_acertos'])\n",
        "\n",
        "df_ing = pd.DataFrame(np.random.randint(8, size=(100, 1)), columns=['Qt_acertos'])\n",
        "\n",
        "df_his = pd.DataFrame(np.random.randint(8, size=(100, 1)), columns=['Qt_acertos'])\n",
        "\n",
        "df_fis = pd.DataFrame(np.random.randint(12, size=(100, 1)), columns=['Qt_acertos'])\n",
        "\n",
        "df_qui = pd.DataFrame(np.random.randint(12, size=(100, 1)), columns=['Qt_acertos'])"
      ]
    },
    {
      "cell_type": "code",
      "execution_count": null,
      "metadata": {
        "id": "HWbOwFL3Yn6k",
        "outputId": "e68a8818-bf1a-4d60-ed3c-4e81f10c1063"
      },
      "outputs": [
        {
          "name": "stdout",
          "output_type": "stream",
          "text": [
            "Percentual de acerto por assunto:\n",
            "    Matemática  Português  Geografia  Inglês  História     Física    Química\n",
            "0   25.000000  38.888889       87.5    37.5      12.5  66.666667  25.000000\n",
            "1   79.166667  55.555556        0.0     0.0       0.0  91.666667  66.666667\n",
            "2   58.333333  88.888889        0.0    62.5      87.5  33.333333  33.333333\n",
            "3   41.666667  38.888889       37.5    50.0       0.0   0.000000  66.666667\n",
            "4   29.166667  11.111111       25.0    87.5       0.0  75.000000  25.000000\n",
            "\n",
            "Total de acertos de cada aluno:\n",
            " 0    35\n",
            "1    48\n",
            "2    50\n",
            "3    32\n",
            "4    30\n",
            "dtype: int64\n",
            "\n",
            "Percentual geral de cada aluno:\n",
            " 0    38.888889\n",
            "1    53.333333\n",
            "2    55.555556\n",
            "3    35.555556\n",
            "4    33.333333\n",
            "dtype: float64\n",
            "\n",
            "Número de alunos com nota maior que 45: 31\n"
          ]
        }
      ],
      "source": [
        "import pandas as pd\n",
        "import numpy as np\n",
        "\n",
        "np.random.seed(42)\n",
        "\n",
        "# Criando os DataFrames para cada matéria\n",
        "df_mat = pd.DataFrame(np.random.randint(24, size=(100, 1)), columns=['Matemática'])\n",
        "df_por = pd.DataFrame(np.random.randint(18, size=(100, 1)), columns=['Português'])\n",
        "df_geo = pd.DataFrame(np.random.randint(8, size=(100, 1)), columns=['Geografia'])\n",
        "df_ing = pd.DataFrame(np.random.randint(8, size=(100, 1)), columns=['Inglês'])\n",
        "df_his = pd.DataFrame(np.random.randint(8, size=(100, 1)), columns=['História'])\n",
        "df_fis = pd.DataFrame(np.random.randint(12, size=(100, 1)), columns=['Física'])\n",
        "df_qui = pd.DataFrame(np.random.randint(12, size=(100, 1)), columns=['Química'])\n",
        "\n",
        "# Concatenando todos os DataFrames\n",
        "df = pd.concat([df_mat, df_por, df_geo, df_ing, df_his, df_fis, df_qui], axis=1)\n",
        "\n",
        "# (1) Calcular o percentual de acerto dos alunos por assunto\n",
        "total_questoes = {\n",
        "    'Matemática': 24,\n",
        "    'Português': 18,\n",
        "    'Geografia': 8,\n",
        "    'Inglês': 8,\n",
        "    'História': 8,\n",
        "    'Física': 12,\n",
        "    'Química': 12\n",
        "}\n",
        "\n",
        "percentual_acerto = df / pd.Series(total_questoes) * 100\n",
        "\n",
        "# (2) Calcular o total de acertos de cada aluno\n",
        "total_acertos = df.sum(axis=1)\n",
        "\n",
        "# (3) Calcular o percentual geral de cada aluno\n",
        "percentual_geral = (total_acertos / sum(total_questoes.values())) * 100\n",
        "\n",
        "# (4) Verificar quantos alunos tiveram nota maior que 45\n",
        "alunos_acima_corte = (total_acertos > 45).sum()\n",
        "\n",
        "# Exibindo os resultados\n",
        "print(\"Percentual de acerto por assunto:\\n\", percentual_acerto.head())\n",
        "print(\"\\nTotal de acertos de cada aluno:\\n\", total_acertos.head())\n",
        "print(\"\\nPercentual geral de cada aluno:\\n\", percentual_geral.head())\n",
        "print(\"\\nNúmero de alunos com nota maior que 45:\", alunos_acima_corte)"
      ]
    },
    {
      "cell_type": "code",
      "execution_count": null,
      "metadata": {
        "id": "TT3gr6J8Yn6k"
      },
      "outputs": [],
      "source": [
        "# 1) Seu código aqui\n",
        "\n",
        "pc_mat = df_mat / 24\n",
        "pc_por = df_por / 18\n",
        "pc_geo = df_geo /  8\n",
        "pc_ing = df_ing /  8\n",
        "pc_his = df_his /  8\n",
        "pc_fis = df_fis /  8\n",
        "pc_qui = df_qui /  8"
      ]
    },
    {
      "cell_type": "code",
      "execution_count": null,
      "metadata": {
        "id": "BbUog3Z6Yn6k",
        "outputId": "2bc19672-7733-41d5-b034-521709ad1101"
      },
      "outputs": [
        {
          "data": {
            "text/html": [
              "<div>\n",
              "<style scoped>\n",
              "    .dataframe tbody tr th:only-of-type {\n",
              "        vertical-align: middle;\n",
              "    }\n",
              "\n",
              "    .dataframe tbody tr th {\n",
              "        vertical-align: top;\n",
              "    }\n",
              "\n",
              "    .dataframe thead th {\n",
              "        text-align: right;\n",
              "    }\n",
              "</style>\n",
              "<table border=\"1\" class=\"dataframe\">\n",
              "  <thead>\n",
              "    <tr style=\"text-align: right;\">\n",
              "      <th></th>\n",
              "      <th>Qt_acertos</th>\n",
              "    </tr>\n",
              "  </thead>\n",
              "  <tbody>\n",
              "    <tr>\n",
              "      <th>0</th>\n",
              "      <td>35</td>\n",
              "    </tr>\n",
              "    <tr>\n",
              "      <th>1</th>\n",
              "      <td>48</td>\n",
              "    </tr>\n",
              "    <tr>\n",
              "      <th>2</th>\n",
              "      <td>50</td>\n",
              "    </tr>\n",
              "    <tr>\n",
              "      <th>3</th>\n",
              "      <td>32</td>\n",
              "    </tr>\n",
              "    <tr>\n",
              "      <th>4</th>\n",
              "      <td>30</td>\n",
              "    </tr>\n",
              "    <tr>\n",
              "      <th>...</th>\n",
              "      <td>...</td>\n",
              "    </tr>\n",
              "    <tr>\n",
              "      <th>95</th>\n",
              "      <td>34</td>\n",
              "    </tr>\n",
              "    <tr>\n",
              "      <th>96</th>\n",
              "      <td>27</td>\n",
              "    </tr>\n",
              "    <tr>\n",
              "      <th>97</th>\n",
              "      <td>40</td>\n",
              "    </tr>\n",
              "    <tr>\n",
              "      <th>98</th>\n",
              "      <td>40</td>\n",
              "    </tr>\n",
              "    <tr>\n",
              "      <th>99</th>\n",
              "      <td>42</td>\n",
              "    </tr>\n",
              "  </tbody>\n",
              "</table>\n",
              "<p>100 rows × 1 columns</p>\n",
              "</div>"
            ],
            "text/plain": [
              "    Qt_acertos\n",
              "0           35\n",
              "1           48\n",
              "2           50\n",
              "3           32\n",
              "4           30\n",
              "..         ...\n",
              "95          34\n",
              "96          27\n",
              "97          40\n",
              "98          40\n",
              "99          42\n",
              "\n",
              "[100 rows x 1 columns]"
            ]
          },
          "execution_count": 4,
          "metadata": {},
          "output_type": "execute_result"
        }
      ],
      "source": [
        "# 2) Seu código aqui\n",
        "total = df_mat + df_por + df_geo + df_ing + df_his + df_fis + df_qui\n",
        "total"
      ]
    },
    {
      "cell_type": "code",
      "execution_count": null,
      "metadata": {
        "id": "0VtrgRdeYn6k",
        "outputId": "fd32d80c-8ca7-44de-82c1-1fa33466bf43"
      },
      "outputs": [
        {
          "data": {
            "text/html": [
              "<div>\n",
              "<style scoped>\n",
              "    .dataframe tbody tr th:only-of-type {\n",
              "        vertical-align: middle;\n",
              "    }\n",
              "\n",
              "    .dataframe tbody tr th {\n",
              "        vertical-align: top;\n",
              "    }\n",
              "\n",
              "    .dataframe thead th {\n",
              "        text-align: right;\n",
              "    }\n",
              "</style>\n",
              "<table border=\"1\" class=\"dataframe\">\n",
              "  <thead>\n",
              "    <tr style=\"text-align: right;\">\n",
              "      <th></th>\n",
              "      <th>Qt_acertos</th>\n",
              "    </tr>\n",
              "  </thead>\n",
              "  <tbody>\n",
              "    <tr>\n",
              "      <th>0</th>\n",
              "      <td>0.388889</td>\n",
              "    </tr>\n",
              "    <tr>\n",
              "      <th>1</th>\n",
              "      <td>0.533333</td>\n",
              "    </tr>\n",
              "    <tr>\n",
              "      <th>2</th>\n",
              "      <td>0.555556</td>\n",
              "    </tr>\n",
              "    <tr>\n",
              "      <th>3</th>\n",
              "      <td>0.355556</td>\n",
              "    </tr>\n",
              "    <tr>\n",
              "      <th>4</th>\n",
              "      <td>0.333333</td>\n",
              "    </tr>\n",
              "    <tr>\n",
              "      <th>...</th>\n",
              "      <td>...</td>\n",
              "    </tr>\n",
              "    <tr>\n",
              "      <th>95</th>\n",
              "      <td>0.377778</td>\n",
              "    </tr>\n",
              "    <tr>\n",
              "      <th>96</th>\n",
              "      <td>0.300000</td>\n",
              "    </tr>\n",
              "    <tr>\n",
              "      <th>97</th>\n",
              "      <td>0.444444</td>\n",
              "    </tr>\n",
              "    <tr>\n",
              "      <th>98</th>\n",
              "      <td>0.444444</td>\n",
              "    </tr>\n",
              "    <tr>\n",
              "      <th>99</th>\n",
              "      <td>0.466667</td>\n",
              "    </tr>\n",
              "  </tbody>\n",
              "</table>\n",
              "<p>100 rows × 1 columns</p>\n",
              "</div>"
            ],
            "text/plain": [
              "    Qt_acertos\n",
              "0     0.388889\n",
              "1     0.533333\n",
              "2     0.555556\n",
              "3     0.355556\n",
              "4     0.333333\n",
              "..         ...\n",
              "95    0.377778\n",
              "96    0.300000\n",
              "97    0.444444\n",
              "98    0.444444\n",
              "99    0.466667\n",
              "\n",
              "[100 rows x 1 columns]"
            ]
          },
          "execution_count": 5,
          "metadata": {},
          "output_type": "execute_result"
        }
      ],
      "source": [
        "# 3) Seu código aqui\n",
        "total/90"
      ]
    },
    {
      "cell_type": "code",
      "execution_count": null,
      "metadata": {
        "id": "pwQwmCJzYn6l",
        "outputId": "a76ebe34-db85-4dd1-d4c4-ae2194f18ced"
      },
      "outputs": [
        {
          "data": {
            "text/plain": [
              "Qt_acertos    31\n",
              "dtype: int64"
            ]
          },
          "execution_count": 6,
          "metadata": {},
          "output_type": "execute_result"
        }
      ],
      "source": [
        "# 4) Seu código aqui\n",
        "total_gt_45 = total[total['Qt_acertos'] > 45]\n",
        "total_gt_45.count()"
      ]
    },
    {
      "cell_type": "markdown",
      "metadata": {
        "id": "q-D-DAGcYn6l"
      },
      "source": [
        "## 2) Vestibular II\n",
        "\n",
        "Ainda sobre o mesmo banco de dados:\n",
        "\n",
        "1. Neste vestibular, quem 'zera' em matemática, física ou química está desqualificado. Monte um novo *DataFrame* com os alunos desqualificados por este critério.\n",
        "2. Quantos são esses alunos?\n",
        "3. Qual a média desses alunos em história e geografia?\n",
        "4. Monte um *DataFrame* com os alunos que passaram para a segunda fase. Repare que estes alunos não podem ter sido desqualificados."
      ]
    },
    {
      "cell_type": "code",
      "execution_count": null,
      "metadata": {
        "id": "Y7M6cgiRYn6l"
      },
      "outputs": [],
      "source": [
        "# Concatenando todos os DataFrames\n",
        "df = pd.concat([df_mat, df_por, df_geo, df_ing, df_his, df_fis, df_qui], axis=1)\n",
        "\n",
        "# (1) Identificar os alunos desqualificados por zerarem em Matemática, Física ou Química\n",
        "desqualificados = df[(df['Matemática'] == 0) | (df['Física'] == 0) | (df['Química'] == 0)]\n",
        "\n",
        "# (2) Contar o número de alunos desqualificados\n",
        "num_desqualificados = desqualificados.shape[0]\n",
        "\n",
        "# (3) Calcular a média dos alunos desqualificados em História e Geografia\n",
        "media_hist_geo_desqualificados = desqualificados[['História', 'Geografia']].mean()\n",
        "\n",
        "# (4) Criar um DataFrame com os alunos que passaram para a segunda fase\n",
        "passaram_segunda_fase = df[(df['Matemática'] > 0) & (df['Física'] > 0) & (df['Química'] > 0)]\n",
        "\n",
        "# Exibindo os resultados\n",
        "print(\"Número de alunos desqualificados:\", num_desqualificados)\n",
        "print(\"\\nMédia dos desqualificados em História e Geografia:\\n\", media_hist_geo_desqualificados)\n",
        "print(\"\\nAlunos que passaram para a segunda fase:\\n\", passaram_segunda_fase.head())"
      ]
    },
    {
      "cell_type": "markdown",
      "metadata": {
        "id": "jQw56QLMYn6l"
      },
      "source": [
        "## 3) Vacinações no Acre\n",
        "Vamos trabalhar agora com a base de vacinações no Acre. Para facilitar a sua vida, copiamos o link do arquivo na célula abaixo.\n",
        "\n",
        "1. Quantas vacinas estão registradas nessa base?  \n",
        "2. Quantos pacientes foram vacinados? (considere um paciente para cada valor único de ```paciente_id```)  \n",
        "3. Quantos pacientes únicos tomaram a primeira dose? OBS: Há um caractere especial neste campo. Receba os valores do campo com o método ```.unique()```.   \n",
        "4. Quantos pacientes com menos de 18 anos foram vacinados?  \n",
        "5. Quantos estabelecimentos aplicaram vacina no Acre?\n",
        "\n",
        "\n",
        "**OBS:** O portal do DATASUS pode apresentar instabilidades, retornando um erro na segunda célula abaixo. Por este motivo está disponível uma base estática, que se for baixada para o seu *working directory* pode ser lida com este comando: ```df = pd.read_csv('registros de vacinacao covid ACRE.csv', sep=';')```.\n",
        "\n",
        "**OBS2:** Para saber qual é o seu working directory, rode no jupyter: ```!pwd```."
      ]
    },
    {
      "cell_type": "code",
      "execution_count": null,
      "metadata": {
        "id": "EmbltnUAYn6l"
      },
      "outputs": [],
      "source": [
        "import pandas as pd\n",
        "\n",
        "arquivo = 'https://s3.sa-east-1.amazonaws.com/ckan.saude.gov.br/SIPNI/COVID/uf/uf%3DAC/part-00000-80423a9a-53c0-4cfb-92a1-795c08743288.c000.csv'\n",
        "\n",
        "# 1) Sua solução aqui\n",
        "df = pd.read_csv(arquivo, sep=';')"
      ]
    },
    {
      "cell_type": "code",
      "source": [
        "# 1. Quantas vacinas estão registradas nessa base?\n",
        "total_vacinas = len(df)\n",
        "print(\"Total de vacinas registradas:\", total_vacinas)"
      ],
      "metadata": {
        "colab": {
          "base_uri": "https://localhost:8080/"
        },
        "id": "X8fTn6GYY6F7",
        "outputId": "adae6da4-a670-4c3d-edd1-9a81c147cd60"
      },
      "execution_count": null,
      "outputs": [
        {
          "output_type": "stream",
          "name": "stdout",
          "text": [
            "Total de vacinas registradas: 388626\n"
          ]
        }
      ]
    },
    {
      "cell_type": "code",
      "execution_count": null,
      "metadata": {
        "colab": {
          "base_uri": "https://localhost:8080/"
        },
        "id": "hDWvVpnyYn6l",
        "outputId": "cf017991-6971-4f5e-a0c9-ef998be41518"
      },
      "outputs": [
        {
          "output_type": "stream",
          "name": "stdout",
          "text": [
            "<class 'pandas.core.frame.DataFrame'>\n",
            "RangeIndex: 388626 entries, 0 to 388625\n",
            "Data columns (total 32 columns):\n",
            " #   Column                                    Non-Null Count   Dtype  \n",
            "---  ------                                    --------------   -----  \n",
            " 0   document_id                               388626 non-null  object \n",
            " 1   paciente_id                               388626 non-null  object \n",
            " 2   paciente_idade                            388626 non-null  int64  \n",
            " 3   paciente_dataNascimento                   388626 non-null  object \n",
            " 4   paciente_enumSexoBiologico                388626 non-null  object \n",
            " 5   paciente_racaCor_codigo                   388626 non-null  int64  \n",
            " 6   paciente_racaCor_valor                    388626 non-null  object \n",
            " 7   paciente_endereco_coIbgeMunicipio         386190 non-null  float64\n",
            " 8   paciente_endereco_coPais                  386196 non-null  float64\n",
            " 9   paciente_endereco_nmMunicipio             386195 non-null  object \n",
            " 10  paciente_endereco_nmPais                  386196 non-null  object \n",
            " 11  paciente_endereco_uf                      386190 non-null  object \n",
            " 12  paciente_endereco_cep                     331761 non-null  float64\n",
            " 13  paciente_nacionalidade_enumNacionalidade  388447 non-null  object \n",
            " 14  estabelecimento_valor                     388626 non-null  int64  \n",
            " 15  estabelecimento_razaoSocial               388626 non-null  object \n",
            " 16  estalecimento_noFantasia                  388626 non-null  object \n",
            " 17  estabelecimento_municipio_codigo          388626 non-null  int64  \n",
            " 18  estabelecimento_municipio_nome            388626 non-null  object \n",
            " 19  estabelecimento_uf                        388626 non-null  object \n",
            " 20  vacina_grupoAtendimento_codigo            388626 non-null  int64  \n",
            " 21  vacina_grupoAtendimento_nome              387282 non-null  object \n",
            " 22  vacina_categoria_codigo                   367893 non-null  float64\n",
            " 23  vacina_categoria_nome                     367893 non-null  object \n",
            " 24  vacina_lote                               388626 non-null  object \n",
            " 25  vacina_fabricante_nome                    388626 non-null  object \n",
            " 26  vacina_fabricante_referencia              383351 non-null  object \n",
            " 27  vacina_dataAplicacao                      388626 non-null  object \n",
            " 28  vacina_descricao_dose                     388626 non-null  object \n",
            " 29  vacina_codigo                             388626 non-null  int64  \n",
            " 30  vacina_nome                               388617 non-null  object \n",
            " 31  sistema_origem                            388227 non-null  object \n",
            "dtypes: float64(4), int64(6), object(22)\n",
            "memory usage: 94.9+ MB\n"
          ]
        }
      ],
      "source": [
        "df.info()"
      ]
    },
    {
      "cell_type": "code",
      "execution_count": null,
      "metadata": {
        "colab": {
          "base_uri": "https://localhost:8080/"
        },
        "id": "NOQUxspwYn6l",
        "outputId": "e2aafca7-a075-4eae-cf13-437d092e6ea9"
      },
      "outputs": [
        {
          "output_type": "stream",
          "name": "stdout",
          "text": [
            "Total de pacientes vacinados: 317471\n"
          ]
        }
      ],
      "source": [
        "# 2. Quantos pacientes foram vacinados?\n",
        "pacientes_unicos = df['paciente_id'].nunique()\n",
        "print(\"Total de pacientes vacinados:\", pacientes_unicos)"
      ]
    },
    {
      "cell_type": "code",
      "execution_count": null,
      "metadata": {
        "colab": {
          "base_uri": "https://localhost:8080/"
        },
        "id": "BJj6QEj3Yn6l",
        "outputId": "d0950cc6-7aab-43e9-db98-aa3cc683fbc7"
      },
      "outputs": [
        {
          "output_type": "stream",
          "name": "stdout",
          "text": [
            "Número de pacientes que tomaram a primeira dose: 143469\n"
          ]
        }
      ],
      "source": [
        "# 3. Quantos pacientes únicos tomaram a primeira dose?\n",
        "\n",
        "primeira_dose = df[df['vacina_descricao_dose'] == '1ª Dose']\n",
        "num_pacientes_primeira_dose = primeira_dose['paciente_id'].nunique()\n",
        "print(\"Número de pacientes que tomaram a primeira dose:\", num_pacientes_primeira_dose)"
      ]
    },
    {
      "cell_type": "code",
      "execution_count": null,
      "metadata": {
        "colab": {
          "base_uri": "https://localhost:8080/"
        },
        "id": "l8T6U_IgYn6m",
        "outputId": "9fc26073-3a61-45d9-9afa-b2a63be1c30a"
      },
      "outputs": [
        {
          "output_type": "stream",
          "name": "stdout",
          "text": [
            "Total de pacientes com menos de 18 anos vacinados: 68910\n"
          ]
        }
      ],
      "source": [
        "# 4. Quantos pacientes com menos de 18 anos foram vacinados?\n",
        "# Assumindo que a coluna 'idade' existe e contém valores numéricos\n",
        "pacientes_menores_18 = df[df['paciente_idade'] < 18]['paciente_id'].nunique()\n",
        "print(\"Total de pacientes com menos de 18 anos vacinados:\", pacientes_menores_18)\n"
      ]
    },
    {
      "cell_type": "code",
      "execution_count": null,
      "metadata": {
        "colab": {
          "base_uri": "https://localhost:8080/"
        },
        "id": "d6M1ctBpYn6m",
        "outputId": "681c7253-150b-4367-9eb2-b2413035eec7"
      },
      "outputs": [
        {
          "output_type": "stream",
          "name": "stdout",
          "text": [
            "Total de estabelecimentos que aplicaram vacina: 63\n"
          ]
        }
      ],
      "source": [
        "# 5. Quantos estabelecimentos aplicaram vacina no Acre?\n",
        "estabelecimentos = df['estabelecimento_razaoSocial'].nunique()\n",
        "print(\"Total de estabelecimentos que aplicaram vacina:\", estabelecimentos)"
      ]
    },
    {
      "cell_type": "markdown",
      "metadata": {
        "id": "gFdnTfLiYn6m"
      },
      "source": [
        "## 4) Vacinação II\n",
        "Gere um *DataFrame* que contenha somente os estabelecimentos que aplicaram vcinas a menores de 18 anos. Nesse *DataFrame* devem conter somente os dados dos estabelecimentos, mais uma coluna sendo a quantidade de vacinas que o estabelecimento aplicou a menores de 18 anos.  \n",
        "  \n",
        "1. crie uma cópia do *DataFrame* original, contendo somente os registros de vacinas realizadas a menores de 18 anos.  \n",
        "2. crie uma lista das colunas desse *DataFrame* com o atributo de *DataFrame* **.columns()**  \n",
        "3. Nesse *DataFrame* faça uma contagem do campo ```vacina_categoria_nome```.\n",
        "3. a partir da lista de colunas, escolha somente aquelas que são referentes ao estabelecimento, faça uma lista com esses valores.  \n",
        "4. usando o método *.loc*, selecione somente essas variáveis  \n",
        "5. Aplique o método **.drop_duplicates** e crie uma lista com uma linha para cada estabelecimento, com os dados do estabelecimento  "
      ]
    },
    {
      "cell_type": "code",
      "execution_count": null,
      "metadata": {
        "id": "I8p7cvq3Yn6m"
      },
      "outputs": [],
      "source": [
        "# 1)\n",
        "df_menor = df[df[\"paciente_idade\"]<18].copy()"
      ]
    },
    {
      "cell_type": "code",
      "execution_count": null,
      "metadata": {
        "colab": {
          "base_uri": "https://localhost:8080/"
        },
        "id": "LIYuOYvJYn6m",
        "outputId": "3d6ee3ed-0f1d-42a0-9847-8355e0a50e08"
      },
      "outputs": [
        {
          "output_type": "execute_result",
          "data": {
            "text/plain": [
              "Index(['document_id', 'paciente_id', 'paciente_idade',\n",
              "       'paciente_dataNascimento', 'paciente_enumSexoBiologico',\n",
              "       'paciente_racaCor_codigo', 'paciente_racaCor_valor',\n",
              "       'paciente_endereco_coIbgeMunicipio', 'paciente_endereco_coPais',\n",
              "       'paciente_endereco_nmMunicipio', 'paciente_endereco_nmPais',\n",
              "       'paciente_endereco_uf', 'paciente_endereco_cep',\n",
              "       'paciente_nacionalidade_enumNacionalidade', 'estabelecimento_valor',\n",
              "       'estabelecimento_razaoSocial', 'estalecimento_noFantasia',\n",
              "       'estabelecimento_municipio_codigo', 'estabelecimento_municipio_nome',\n",
              "       'estabelecimento_uf', 'vacina_grupoAtendimento_codigo',\n",
              "       'vacina_grupoAtendimento_nome', 'vacina_categoria_codigo',\n",
              "       'vacina_categoria_nome', 'vacina_lote', 'vacina_fabricante_nome',\n",
              "       'vacina_fabricante_referencia', 'vacina_dataAplicacao',\n",
              "       'vacina_descricao_dose', 'vacina_codigo', 'vacina_nome',\n",
              "       'sistema_origem'],\n",
              "      dtype='object')"
            ]
          },
          "metadata": {},
          "execution_count": 37
        }
      ],
      "source": [
        "# 2)\n",
        "df_menor.columns"
      ]
    },
    {
      "cell_type": "code",
      "execution_count": null,
      "metadata": {
        "colab": {
          "base_uri": "https://localhost:8080/",
          "height": 554
        },
        "id": "-waUSk-8Yn6m",
        "outputId": "b34d2b05-b413-42f0-e0bd-a7add02f0fcd"
      },
      "outputs": [
        {
          "output_type": "execute_result",
          "data": {
            "text/plain": [
              "vacina_categoria_nome\n",
              "Faixa Etária                                      48114\n",
              "Povos Indígenas                                    4757\n",
              "Outros                                             3755\n",
              "Povos e Comunidades Tradicionais                    874\n",
              "Trabalhadores de Saúde                              264\n",
              "Comorbidades                                         57\n",
              "População Privada de Liberdade                       53\n",
              "Gestantes                                            45\n",
              "Trabalhadores da Educação                            14\n",
              "Trabalhadores de Transporte                          13\n",
              "Pessoas com Deficiência                              11\n",
              "Pessoas Institucionalizadas                           3\n",
              "Pessoas de 60 anos ou mais institucionalizadas        1\n",
              "Puérperas                                             1\n",
              "Name: count, dtype: int64"
            ],
            "text/html": [
              "<div>\n",
              "<style scoped>\n",
              "    .dataframe tbody tr th:only-of-type {\n",
              "        vertical-align: middle;\n",
              "    }\n",
              "\n",
              "    .dataframe tbody tr th {\n",
              "        vertical-align: top;\n",
              "    }\n",
              "\n",
              "    .dataframe thead th {\n",
              "        text-align: right;\n",
              "    }\n",
              "</style>\n",
              "<table border=\"1\" class=\"dataframe\">\n",
              "  <thead>\n",
              "    <tr style=\"text-align: right;\">\n",
              "      <th></th>\n",
              "      <th>count</th>\n",
              "    </tr>\n",
              "    <tr>\n",
              "      <th>vacina_categoria_nome</th>\n",
              "      <th></th>\n",
              "    </tr>\n",
              "  </thead>\n",
              "  <tbody>\n",
              "    <tr>\n",
              "      <th>Faixa Etária</th>\n",
              "      <td>48114</td>\n",
              "    </tr>\n",
              "    <tr>\n",
              "      <th>Povos Indígenas</th>\n",
              "      <td>4757</td>\n",
              "    </tr>\n",
              "    <tr>\n",
              "      <th>Outros</th>\n",
              "      <td>3755</td>\n",
              "    </tr>\n",
              "    <tr>\n",
              "      <th>Povos e Comunidades Tradicionais</th>\n",
              "      <td>874</td>\n",
              "    </tr>\n",
              "    <tr>\n",
              "      <th>Trabalhadores de Saúde</th>\n",
              "      <td>264</td>\n",
              "    </tr>\n",
              "    <tr>\n",
              "      <th>Comorbidades</th>\n",
              "      <td>57</td>\n",
              "    </tr>\n",
              "    <tr>\n",
              "      <th>População Privada de Liberdade</th>\n",
              "      <td>53</td>\n",
              "    </tr>\n",
              "    <tr>\n",
              "      <th>Gestantes</th>\n",
              "      <td>45</td>\n",
              "    </tr>\n",
              "    <tr>\n",
              "      <th>Trabalhadores da Educação</th>\n",
              "      <td>14</td>\n",
              "    </tr>\n",
              "    <tr>\n",
              "      <th>Trabalhadores de Transporte</th>\n",
              "      <td>13</td>\n",
              "    </tr>\n",
              "    <tr>\n",
              "      <th>Pessoas com Deficiência</th>\n",
              "      <td>11</td>\n",
              "    </tr>\n",
              "    <tr>\n",
              "      <th>Pessoas Institucionalizadas</th>\n",
              "      <td>3</td>\n",
              "    </tr>\n",
              "    <tr>\n",
              "      <th>Pessoas de 60 anos ou mais institucionalizadas</th>\n",
              "      <td>1</td>\n",
              "    </tr>\n",
              "    <tr>\n",
              "      <th>Puérperas</th>\n",
              "      <td>1</td>\n",
              "    </tr>\n",
              "  </tbody>\n",
              "</table>\n",
              "</div><br><label><b>dtype:</b> int64</label>"
            ]
          },
          "metadata": {},
          "execution_count": 38
        }
      ],
      "source": [
        "# 3)\n",
        "df_menor['vacina_categoria_nome'].value_counts()"
      ]
    },
    {
      "cell_type": "code",
      "execution_count": null,
      "metadata": {
        "id": "xdB3-qLzYn6m"
      },
      "outputs": [],
      "source": [
        "# 4 & 5)\n",
        "lista_variaveis = ['estabelecimento_valor',\n",
        "       'estabelecimento_razaoSocial', 'estalecimento_noFantasia',\n",
        "       'estabelecimento_municipio_codigo', 'estabelecimento_municipio_nome',\n",
        "       'estabelecimento_uf']\n",
        "df_menor_lista = df_menor.loc[:,lista_variaveis]"
      ]
    },
    {
      "cell_type": "code",
      "execution_count": null,
      "metadata": {
        "colab": {
          "base_uri": "https://localhost:8080/"
        },
        "id": "t_J4bWyeYn6m",
        "outputId": "bd474b52-b93b-4506-b761-36f7be1117b1"
      },
      "outputs": [
        {
          "output_type": "execute_result",
          "data": {
            "text/plain": [
              "(211, 6)"
            ]
          },
          "metadata": {},
          "execution_count": 42
        }
      ],
      "source": [
        "# 6)\n",
        "df_menor_lista = df_menor_lista.drop_duplicates()\n",
        "df_menor_lista.shape"
      ]
    }
  ],
  "metadata": {
    "kernelspec": {
      "display_name": "Python 3 (ipykernel)",
      "language": "python",
      "name": "python3"
    },
    "language_info": {
      "codemirror_mode": {
        "name": "ipython",
        "version": 3
      },
      "file_extension": ".py",
      "mimetype": "text/x-python",
      "name": "python",
      "nbconvert_exporter": "python",
      "pygments_lexer": "ipython3",
      "version": "3.12.4"
    },
    "toc": {
      "base_numbering": 1,
      "nav_menu": {},
      "number_sections": false,
      "sideBar": true,
      "skip_h1_title": true,
      "title_cell": "Índice",
      "title_sidebar": "Conteúdo",
      "toc_cell": false,
      "toc_position": {},
      "toc_section_display": true,
      "toc_window_display": false
    },
    "varInspector": {
      "cols": {
        "lenName": 16,
        "lenType": 16,
        "lenVar": 40
      },
      "kernels_config": {
        "python": {
          "delete_cmd_postfix": "",
          "delete_cmd_prefix": "del ",
          "library": "var_list.py",
          "varRefreshCmd": "print(var_dic_list())"
        },
        "r": {
          "delete_cmd_postfix": ") ",
          "delete_cmd_prefix": "rm(",
          "library": "var_list.r",
          "varRefreshCmd": "cat(var_dic_list()) "
        }
      },
      "types_to_exclude": [
        "module",
        "function",
        "builtin_function_or_method",
        "instance",
        "_Feature"
      ],
      "window_display": false
    },
    "colab": {
      "provenance": []
    }
  },
  "nbformat": 4,
  "nbformat_minor": 0
}