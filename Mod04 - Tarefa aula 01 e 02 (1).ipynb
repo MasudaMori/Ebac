{
 "cells": [
  {
   "cell_type": "markdown",
   "metadata": {},
   "source": [
    "# Tarefa 01\n",
    "\n",
    "- Leia os enunciados com atenção\n",
    "- Saiba que pode haver mais de uma resposta correta\n",
    "- Insira novas células de código sempre que achar necessário\n",
    "- Em caso de dúvidas, procure os tutores\n",
    "- Divirta-se :)\n",
    "\n",
    "#### 1)  crie uma série do pandas a partir de uma lista com os dados abaixo:\n",
    "\n",
    "Em um estudo sobre alteração na tempreatura global, A NASA disponibiliza dados de diferenças de de temperatura média da superfície terrestre relativos às médias de temperatura entre 1951 e 1980. Os dados originais podem ser vistos no site da NASA/GISS, e estão dispostos a cada década na tabela abaixo.\n",
    "\n",
    "|ano|anomalia termica|\n",
    "|:-:|:----:|\n",
    "| 1900 | -0.08 |\n",
    "| 1920 | -0.27 |\n",
    "| 1940 | 0.12 |\n",
    "| 1960 | -0.03 |\n",
    "| 1980 | 0.26 |\n",
    "| 2000 | 0.40 |\n",
    "| 2020 | 1.02 |\n",
    "\n",
    "Crie uma séries do Pandas a partir de uma lista com esses dados."
   ]
  },
  {
   "cell_type": "code",
   "execution_count": 7,
   "metadata": {},
   "outputs": [
    {
     "name": "stdout",
     "output_type": "stream",
     "text": [
      "Ano\n",
      "1900   -0.08\n",
      "1920   -0.27\n",
      "1940    0.12\n",
      "1960   -0.03\n",
      "1980    0.26\n",
      "2000    0.40\n",
      "2020    1.02\n",
      "Name: Anomalia_Termica, dtype: float64\n"
     ]
    }
   ],
   "source": [
    "import pandas as pd\n",
    "import numpy as np\n",
    "\n",
    "# Dados\n",
    "dados = [\n",
    "    (1900, -0.08),\n",
    "    (1920, -0.27),\n",
    "    (1940, 0.12),\n",
    "    (1960, -0.03),\n",
    "    (1980, 0.26),\n",
    "    (2000, 0.40),\n",
    "    (2020, 1.02)\n",
    "]\n",
    "\n",
    "# DataFrame\n",
    "df = pd.DataFrame(dados, columns=['Ano', 'Anomalia_Termica'])\n",
    "\n",
    "print(serie_temperatura)"
   ]
  },
  {
   "cell_type": "markdown",
   "metadata": {},
   "source": [
    "#### 2) Coloque os anos nos índices conforme a tabela."
   ]
  },
  {
   "cell_type": "code",
   "execution_count": 9,
   "metadata": {},
   "outputs": [
    {
     "name": "stdout",
     "output_type": "stream",
     "text": [
      "Ano\n",
      "1900   -0.08\n",
      "1920   -0.27\n",
      "1940    0.12\n",
      "1960   -0.03\n",
      "1980    0.26\n",
      "2000    0.40\n",
      "2020    1.02\n",
      "Name: Anomalia_Termica, dtype: float64\n"
     ]
    }
   ],
   "source": [
    "\n",
    "# seu código aqui\n",
    "# Convertendo a coluna 'Ano' para o índice\n",
    "serie_temperatura = df.set_index('Ano')['Anomalia_Termica']\n",
    "print(serie_temperatura)"
   ]
  },
  {
   "cell_type": "markdown",
   "metadata": {},
   "source": [
    "#### 3) A partir do dicionário abaixo, crie uma séries do Pandas:"
   ]
  },
  {
   "cell_type": "code",
   "execution_count": 11,
   "metadata": {},
   "outputs": [
    {
     "name": "stdout",
     "output_type": "stream",
     "text": [
      "1900   -0.08\n",
      "1920   -0.27\n",
      "1940    0.12\n",
      "1960   -0.03\n",
      "1980    0.26\n",
      "2000    0.40\n",
      "2020    1.02\n",
      "dtype: float64\n"
     ]
    }
   ],
   "source": [
    "dic_temperaturas = {1900: -.08, 1920: -.27, 1940: .12, 1960: -.03, 1980: .26, 2000: .40, 2020: 1.02}\n",
    "\n",
    "# Criando uma Série do Pandas diretamente a partir do dicionário\n",
    "serie_temperatura = pd.Series(dic_temperaturas)\n",
    "\n",
    "print(serie_temperatura)"
   ]
  },
  {
   "cell_type": "markdown",
   "metadata": {},
   "source": [
    "#### 4) Transforme o ndarray abaixo em um dataframe. \n",
    "O numpy é capaz de gerar arrays n-dimensionais com números pseudo-aleatórios de acordo com uma variedade de distribuições, como no exemplo abaixo. Transforme esse nd-array em um DataFrame."
   ]
  },
  {
   "cell_type": "code",
   "execution_count": 13,
   "metadata": {},
   "outputs": [
    {
     "name": "stdout",
     "output_type": "stream",
     "text": [
      "             0           1           2\n",
      "0   114.028753  104.249608  102.116637\n",
      "1    96.603428   93.852198   88.853907\n",
      "2    98.220182   93.433113  111.366929\n",
      "3   100.148485   92.959279   88.929614\n",
      "4    89.011328   98.561267   99.009829\n",
      "5    92.935380  115.254216   86.385742\n",
      "6   107.912155  127.555553  101.545036\n",
      "7    92.400333   87.229872  107.966394\n",
      "8   105.375600   95.309811  112.867823\n",
      "9   102.199572  107.124279  107.953887\n",
      "10  108.249036   91.427723   84.848230\n",
      "11  109.936467  104.349650   96.823762\n",
      "12  100.007561  106.385249   96.482627\n",
      "13  103.175203  104.778518  108.472637\n",
      "14  104.353817  102.807911   90.900046\n",
      "15  102.405275   90.124754  104.132308\n",
      "16  115.606126   98.252415  100.560854\n",
      "17   80.695073   99.238555  106.081201\n",
      "18   76.813719  111.218800   75.876875\n",
      "19   97.649478   96.185765  107.477357\n"
     ]
    }
   ],
   "source": [
    "arr = np.random.normal(100, 10, (20,3))\n",
    "\n",
    "# Convertendo para DataFrame\n",
    "df = pd.DataFrame(arr)\n",
    "\n",
    "print(df)"
   ]
  },
  {
   "cell_type": "markdown",
   "metadata": {},
   "source": [
    "#### 5) Nomeie os índices das linhas com inteiros de 1 a 20, e as colunas com os nomes \"x1\", \"x2\", e \"x3\" respectivamente."
   ]
  },
  {
   "cell_type": "code",
   "execution_count": 15,
   "metadata": {},
   "outputs": [
    {
     "name": "stdout",
     "output_type": "stream",
     "text": [
      "            x1          x2          x3\n",
      "1   114.028753  104.249608  102.116637\n",
      "2    96.603428   93.852198   88.853907\n",
      "3    98.220182   93.433113  111.366929\n",
      "4   100.148485   92.959279   88.929614\n",
      "5    89.011328   98.561267   99.009829\n",
      "6    92.935380  115.254216   86.385742\n",
      "7   107.912155  127.555553  101.545036\n",
      "8    92.400333   87.229872  107.966394\n",
      "9   105.375600   95.309811  112.867823\n",
      "10  102.199572  107.124279  107.953887\n",
      "11  108.249036   91.427723   84.848230\n",
      "12  109.936467  104.349650   96.823762\n",
      "13  100.007561  106.385249   96.482627\n",
      "14  103.175203  104.778518  108.472637\n",
      "15  104.353817  102.807911   90.900046\n",
      "16  102.405275   90.124754  104.132308\n",
      "17  115.606126   98.252415  100.560854\n",
      "18   80.695073   99.238555  106.081201\n",
      "19   76.813719  111.218800   75.876875\n",
      "20   97.649478   96.185765  107.477357\n"
     ]
    }
   ],
   "source": [
    "#seu código aqui\n",
    "\n",
    "# Renomeando os índices das linhas\n",
    "df.index = np.arange(1, 21)\n",
    "\n",
    "# Renomeando as colunas\n",
    "df.columns = ['x1', 'x2', 'x3']\n",
    "\n",
    "print(df)\n"
   ]
  },
  {
   "cell_type": "markdown",
   "metadata": {},
   "source": [
    "#### 6) No DataFrame do exercício 5, crie uma nova coluna como sendo a média das três colunas, e dê a ela o nome de \"media\" (não recomendo colocar acentos em nomes de variáveis)."
   ]
  },
  {
   "cell_type": "code",
   "execution_count": 17,
   "metadata": {},
   "outputs": [
    {
     "name": "stdout",
     "output_type": "stream",
     "text": [
      "            x1          x2          x3       media\n",
      "1   114.028753  104.249608  102.116637  106.798333\n",
      "2    96.603428   93.852198   88.853907   93.103178\n",
      "3    98.220182   93.433113  111.366929  101.006741\n",
      "4   100.148485   92.959279   88.929614   94.012459\n",
      "5    89.011328   98.561267   99.009829   95.527475\n",
      "6    92.935380  115.254216   86.385742   98.191780\n",
      "7   107.912155  127.555553  101.545036  112.337581\n",
      "8    92.400333   87.229872  107.966394   95.865533\n",
      "9   105.375600   95.309811  112.867823  104.517745\n",
      "10  102.199572  107.124279  107.953887  105.759246\n",
      "11  108.249036   91.427723   84.848230   94.841663\n",
      "12  109.936467  104.349650   96.823762  103.703293\n",
      "13  100.007561  106.385249   96.482627  100.958479\n",
      "14  103.175203  104.778518  108.472637  105.475453\n",
      "15  104.353817  102.807911   90.900046   99.353925\n",
      "16  102.405275   90.124754  104.132308   98.887446\n",
      "17  115.606126   98.252415  100.560854  104.806465\n",
      "18   80.695073   99.238555  106.081201   95.338276\n",
      "19   76.813719  111.218800   75.876875   87.969798\n",
      "20   97.649478   96.185765  107.477357  100.437534\n"
     ]
    }
   ],
   "source": [
    "# seu código aqui\n",
    "\n",
    "# Criando a nova coluna 'media' com a média das colunas existentes\n",
    "df['media'] = df[['x1', 'x2', 'x3']].mean(axis=1)\n",
    "\n",
    "print(df)"
   ]
  },
  {
   "cell_type": "markdown",
   "metadata": {},
   "source": [
    "#### 7) No DataFrame do exercício 6, crie uma nova coluna chamada \"log_med\", contendo o logaritmo natural da média calculada no exercício 6 <br>"
   ]
  },
  {
   "cell_type": "code",
   "execution_count": 19,
   "metadata": {},
   "outputs": [
    {
     "name": "stdout",
     "output_type": "stream",
     "text": [
      "            x1          x2          x3       media   log_med\n",
      "1   114.028753  104.249608  102.116637  106.798333  4.670942\n",
      "2    96.603428   93.852198   88.853907   93.103178  4.533708\n",
      "3    98.220182   93.433113  111.366929  101.006741  4.615187\n",
      "4   100.148485   92.959279   88.929614   94.012459  4.543427\n",
      "5    89.011328   98.561267   99.009829   95.527475  4.559414\n",
      "6    92.935380  115.254216   86.385742   98.191780  4.586923\n",
      "7   107.912155  127.555553  101.545036  112.337581  4.721508\n",
      "8    92.400333   87.229872  107.966394   95.865533  4.562947\n",
      "9   105.375600   95.309811  112.867823  104.517745  4.649357\n",
      "10  102.199572  107.124279  107.953887  105.759246  4.661165\n",
      "11  108.249036   91.427723   84.848230   94.841663  4.552209\n",
      "12  109.936467  104.349650   96.823762  103.703293  4.641534\n",
      "13  100.007561  106.385249   96.482627  100.958479  4.614709\n",
      "14  103.175203  104.778518  108.472637  105.475453  4.658478\n",
      "15  104.353817  102.807911   90.900046   99.353925  4.598688\n",
      "16  102.405275   90.124754  104.132308   98.887446  4.593982\n",
      "17  115.606126   98.252415  100.560854  104.806465  4.652115\n",
      "18   80.695073   99.238555  106.081201   95.338276  4.557431\n",
      "19   76.813719  111.218800   75.876875   87.969798  4.476994\n",
      "20   97.649478   96.185765  107.477357  100.437534  4.609536\n"
     ]
    }
   ],
   "source": [
    "# seu código aqui\n",
    "\n",
    "# Criando a coluna 'log_med' com o logaritmo natural da média\n",
    "df['log_med'] = np.log(df['media'])\n",
    "\n",
    "print(df)"
   ]
  },
  {
   "cell_type": "code",
   "execution_count": null,
   "metadata": {},
   "outputs": [],
   "source": []
  }
 ],
 "metadata": {
  "kernelspec": {
   "display_name": "Python 3 (ipykernel)",
   "language": "python",
   "name": "python3"
  },
  "language_info": {
   "codemirror_mode": {
    "name": "ipython",
    "version": 3
   },
   "file_extension": ".py",
   "mimetype": "text/x-python",
   "name": "python",
   "nbconvert_exporter": "python",
   "pygments_lexer": "ipython3",
   "version": "3.12.4"
  }
 },
 "nbformat": 4,
 "nbformat_minor": 4
}
